{
 "cells": [
  {
   "cell_type": "markdown",
   "metadata": {
    "id": "x8WZXl8z-1VC"
   },
   "source": [
    "# **Phishing Detection: Trích xuất đặc trưng**\n",
    "\n"
   ]
  },
  {
   "cell_type": "code",
   "metadata": {
    "id": "PH13wfswmyDv",
    "ExecuteTime": {
     "end_time": "2025-10-14T09:10:16.816247Z",
     "start_time": "2025-10-14T09:10:07.930913Z"
    }
   },
   "source": [
    "#importing required packages for this module\n",
    "import sys\n",
    "import ipaddress\n",
    "import re\n",
    "from dateutil.parser import parse as date_parse\n",
    "from urllib.parse import urlparse\n",
    "import pandas as pd\n",
    "\n",
    "# Thêm đường dẫn Google Drive vào sys.path\n",
    "#sys.path.append('/content/drive/MyDrive/an_toan_thong_tin_3')\n",
    "\n",
    "# Import feature extraction class từ Google Drive\n",
    "from feature import FeatureExtraction"
   ],
   "outputs": [],
   "execution_count": 1
  },
  {
   "cell_type": "code",
   "metadata": {
    "colab": {
     "base_uri": "https://localhost:8080/"
    },
    "id": "uWPyskdfk3mP",
    "outputId": "0d33bf66-bda2-4226-9950-e7482afcf5dd",
    "ExecuteTime": {
     "end_time": "2025-10-13T06:12:08.967360Z",
     "start_time": "2025-10-13T06:12:08.572140Z"
    }
   },
   "source": [
    "from google.colab import drive\n",
    "drive.mount('/content/drive')"
   ],
   "outputs": [
    {
     "ename": "ModuleNotFoundError",
     "evalue": "No module named 'google'",
     "output_type": "error",
     "traceback": [
      "\u001B[31m---------------------------------------------------------------------------\u001B[39m",
      "\u001B[31mModuleNotFoundError\u001B[39m                       Traceback (most recent call last)",
      "\u001B[36mCell\u001B[39m\u001B[36m \u001B[39m\u001B[32mIn[2]\u001B[39m\u001B[32m, line 1\u001B[39m\n\u001B[32m----> \u001B[39m\u001B[32m1\u001B[39m \u001B[38;5;28;01mfrom\u001B[39;00m\u001B[38;5;250m \u001B[39m\u001B[34;01mgoogle\u001B[39;00m\u001B[34;01m.\u001B[39;00m\u001B[34;01mcolab\u001B[39;00m\u001B[38;5;250m \u001B[39m\u001B[38;5;28;01mimport\u001B[39;00m drive\n\u001B[32m      2\u001B[39m drive.mount(\u001B[33m'\u001B[39m\u001B[33m/content/drive\u001B[39m\u001B[33m'\u001B[39m)\n",
      "\u001B[31mModuleNotFoundError\u001B[39m: No module named 'google'"
     ]
    }
   ],
   "execution_count": 2
  },
  {
   "cell_type": "code",
   "metadata": {
    "colab": {
     "base_uri": "https://localhost:8080/",
     "height": 382
    },
    "id": "GaGVL9gYKXma",
    "outputId": "eaf9a4a8-c47a-43e9-857c-a7c199ad2869",
    "ExecuteTime": {
     "end_time": "2025-10-14T09:10:21.846838Z",
     "start_time": "2025-10-14T09:10:20.306646Z"
    }
   },
   "source": [
    "#loading the URLs data to dataframe\n",
    "data_url = pd.read_csv(\"DataFiles/dataset_with_domain.csv\")\n",
    "print(f\"Total dataset size: {data_url.shape}\")\n",
    "print(f\"Type distribution:\")\n",
    "print(data_url['type'].value_counts())"
   ],
   "outputs": [
    {
     "name": "stdout",
     "output_type": "stream",
     "text": [
      "Total dataset size: (504983, 3)\n",
      "Type distribution:\n",
      "type\n",
      "legitimate    345738\n",
      "phishing      159245\n",
      "Name: count, dtype: int64\n"
     ]
    }
   ],
   "execution_count": 2
  },
  {
   "cell_type": "code",
   "metadata": {
    "colab": {
     "base_uri": "https://localhost:8080/"
    },
    "id": "mAZAvSe2n1oT",
    "outputId": "0aba62d7-7c48-4a2d-877f-352b5c6550d0",
    "ExecuteTime": {
     "end_time": "2025-10-13T06:12:36.883437Z",
     "start_time": "2025-10-13T06:12:36.873603Z"
    }
   },
   "source": [
    "data_url.shape"
   ],
   "outputs": [
    {
     "data": {
      "text/plain": [
       "(504983, 3)"
      ]
     },
     "execution_count": 5,
     "metadata": {},
     "output_type": "execute_result"
    }
   ],
   "execution_count": 5
  },
  {
   "cell_type": "code",
   "metadata": {
    "ExecuteTime": {
     "end_time": "2025-10-13T07:10:55.179940Z",
     "start_time": "2025-10-13T07:10:55.075505Z"
    }
   },
   "source": [
    "# Lấy ngẫu nhiên 5000 mẫu legitimate và 5000 mẫu phishing\n",
    "import numpy as np\n",
    "\n",
    "# Đặt seed để kết quả có thể tái lập\n",
    "np.random.seed(42)\n",
    "\n",
    "# Lọc dữ liệu theo type\n",
    "legitimate_data = data_url[data_url['type'] == 'legitimate']\n",
    "phishing_data = data_url[data_url['type'] == 'phishing']\n",
    "\n",
    "print(f\"Available legitimate URLs: {len(legitimate_data)}\")\n",
    "print(f\"Available phishing URLs: {len(phishing_data)}\")\n",
    "\n",
    "# Lấy ngẫu nhiên 5000 mẫu từ mỗi loại\n",
    "legitimate_sample = legitimate_data.sample(n=1000, random_state=42)\n",
    "phishing_sample = phishing_data.sample(n=1000, random_state=42)\n",
    "\n",
    "# Gộp lại và xáo trộn\n",
    "sampled_data = pd.concat([legitimate_sample, phishing_sample], ignore_index=True)\n",
    "sampled_data = sampled_data.sample(frac=1, random_state=42).reset_index(drop=True)\n",
    "\n",
    "print(f\"Final sampled dataset size: {sampled_data.shape}\")\n",
    "print(f\"Sampled type distribution:\")\n",
    "print(sampled_data['type'].value_counts())\n",
    "\n",
    "# Hiển thị một vài mẫu\n",
    "sampled_data.head()"
   ],
   "outputs": [
    {
     "name": "stdout",
     "output_type": "stream",
     "text": [
      "Available legitimate URLs: 345738\n",
      "Available phishing URLs: 159245\n",
      "Final sampled dataset size: (2000, 3)\n",
      "Sampled type distribution:\n",
      "type\n",
      "phishing      1000\n",
      "legitimate    1000\n",
      "Name: count, dtype: int64\n"
     ]
    },
    {
     "data": {
      "text/plain": [
       "                                                 url  \\\n",
       "0  http://www.asean-works.com/modules/mod_simplef...   \n",
       "1  https://www.yellowbook.com/profile/jean-denis-...   \n",
       "2             https://sign-in-106472.weeblysite.com/   \n",
       "3                 https://www.stingraygraphix.co.za/   \n",
       "4                    http://trehoada.org/878hf33f34f   \n",
       "\n",
       "                          domain        type  \n",
       "0            www.asean-works.com    phishing  \n",
       "1             www.yellowbook.com  legitimate  \n",
       "2  sign-in-106472.weeblysite.com    phishing  \n",
       "3      www.stingraygraphix.co.za  legitimate  \n",
       "4                   trehoada.org    phishing  "
      ],
      "text/html": [
       "<div>\n",
       "<style scoped>\n",
       "    .dataframe tbody tr th:only-of-type {\n",
       "        vertical-align: middle;\n",
       "    }\n",
       "\n",
       "    .dataframe tbody tr th {\n",
       "        vertical-align: top;\n",
       "    }\n",
       "\n",
       "    .dataframe thead th {\n",
       "        text-align: right;\n",
       "    }\n",
       "</style>\n",
       "<table border=\"1\" class=\"dataframe\">\n",
       "  <thead>\n",
       "    <tr style=\"text-align: right;\">\n",
       "      <th></th>\n",
       "      <th>url</th>\n",
       "      <th>domain</th>\n",
       "      <th>type</th>\n",
       "    </tr>\n",
       "  </thead>\n",
       "  <tbody>\n",
       "    <tr>\n",
       "      <th>0</th>\n",
       "      <td>http://www.asean-works.com/modules/mod_simplef...</td>\n",
       "      <td>www.asean-works.com</td>\n",
       "      <td>phishing</td>\n",
       "    </tr>\n",
       "    <tr>\n",
       "      <th>1</th>\n",
       "      <td>https://www.yellowbook.com/profile/jean-denis-...</td>\n",
       "      <td>www.yellowbook.com</td>\n",
       "      <td>legitimate</td>\n",
       "    </tr>\n",
       "    <tr>\n",
       "      <th>2</th>\n",
       "      <td>https://sign-in-106472.weeblysite.com/</td>\n",
       "      <td>sign-in-106472.weeblysite.com</td>\n",
       "      <td>phishing</td>\n",
       "    </tr>\n",
       "    <tr>\n",
       "      <th>3</th>\n",
       "      <td>https://www.stingraygraphix.co.za/</td>\n",
       "      <td>www.stingraygraphix.co.za</td>\n",
       "      <td>legitimate</td>\n",
       "    </tr>\n",
       "    <tr>\n",
       "      <th>4</th>\n",
       "      <td>http://trehoada.org/878hf33f34f</td>\n",
       "      <td>trehoada.org</td>\n",
       "      <td>phishing</td>\n",
       "    </tr>\n",
       "  </tbody>\n",
       "</table>\n",
       "</div>"
      ]
     },
     "execution_count": 4,
     "metadata": {},
     "output_type": "execute_result"
    }
   ],
   "execution_count": 4
  },
  {
   "cell_type": "markdown",
   "metadata": {
    "id": "xbzZbsWIEV6J"
   },
   "source": [
    "# **Feature Extraction:**\n",
    "\n",
    "Trích xuất đặc trưng\n",
    "\n",
    "\n",
    "1.   Address Bar based Features\n",
    "\n"
   ]
  },
  {
   "cell_type": "markdown",
   "metadata": {
    "id": "vABNo39RQljI"
   },
   "source": [
    "### **3.1. Address Bar Based Features:**\n",
    "\n",
    "\n",
    "1.1. Address Bar based Features\n",
    "1.1.1.\tUsing the IP Address\n",
    "1.1.2.\tLong URL to Hide the Suspicious Part\n",
    "1.1.3.\tUsing URL Shortening Services “TinyURL”\n",
    "1.1.4.\tURL’s having “@” Symbol\n",
    "1.1.5.\tRedirecting using “//”\n",
    "1.1.6.\tAdding Prefix or Suffix Separated by (-) to the Domain\n",
    "1.1.7.\tSub Domain and Multi Sub Domains\n",
    "1.1.8.\tHTTPS (Hyper Text Transfer Protocol with Secure Sockets Layer) \n",
    "1.1.9.\tThe Existence of “HTTPS” Token in the Domain Part of the URL\n",
    "\n"
   ]
  },
  {
   "cell_type": "code",
   "metadata": {
    "id": "8GzyvCg2rzWU",
    "ExecuteTime": {
     "end_time": "2025-10-13T07:11:02.770956Z",
     "start_time": "2025-10-13T07:11:02.764318Z"
    }
   },
   "source": [
    "#Function to extract features\n",
    "def featureExtraction(url, label):\n",
    "    try:\n",
    "        extractor = FeatureExtraction(url)\n",
    "        features = extractor.features\n",
    "        features.append(1 if label == 'legitimate' else -1)  # Convert label to numeric\n",
    "        return features\n",
    "    except Exception as e:\n",
    "        print(f\"Error processing URL {url}: {e}\")\n",
    "        pass"
   ],
   "outputs": [],
   "execution_count": 5
  },
  {
   "cell_type": "code",
   "metadata": {
    "jupyter": {
     "is_executing": true
    },
    "ExecuteTime": {
     "start_time": "2025-10-13T07:11:09.984203Z"
    }
   },
   "source": [
    "# Extracting features từ sampled data\n",
    "features = []\n",
    "total_samples = len(sampled_data)\n",
    "\n",
    "print(\"Bắt đầu trích xuất đặc trưng...\")\n",
    "print(f\"Tổng số mẫu cần xử lý: {total_samples}\")\n",
    "\n",
    "for i in range(total_samples):\n",
    "    if i % 100 == 0:  # In progress mỗi 1000 mẫu\n",
    "        print(f\"Đã xử lý: {i}/{total_samples} mẫu ({i/total_samples*100:.1f}%)\")\n",
    "    \n",
    "    url = sampled_data['url'].iloc[i]\n",
    "    label = sampled_data['type'].iloc[i]\n",
    "    \n",
    "    extracted_features = featureExtraction(url, label)\n",
    "    features.append(extracted_features)\n",
    "\n",
    "print(f\"Hoàn thành! Đã trích xuất đặc trưng cho {len(features)} URL.\")"
   ],
   "outputs": [
    {
     "name": "stdout",
     "output_type": "stream",
     "text": [
      "Bắt đầu trích xuất đặc trưng...\n",
      "Tổng số mẫu cần xử lý: 2000\n",
      "Đã xử lý: 0/2000 mẫu (0.0%)\n",
      "Đã xử lý: 100/2000 mẫu (5.0%)\n",
      "Đã xử lý: 200/2000 mẫu (10.0%)\n",
      "Đã xử lý: 300/2000 mẫu (15.0%)\n"
     ]
    }
   ],
   "execution_count": null
  },
  {
   "metadata": {},
   "cell_type": "code",
   "outputs": [],
   "execution_count": null,
   "source": "featureExtraction(\"https://www.facebook.com/\", 1)"
  },
  {
   "cell_type": "code",
   "execution_count": null,
   "metadata": {
    "colab": {
     "base_uri": "https://localhost:8080/",
     "height": 244
    },
    "id": "1brvc6kmoeGk",
    "outputId": "46251599-d2dc-432e-81b6-f2b30531ab8e"
   },
   "outputs": [
    {
     "data": {
      "application/vnd.google.colaboratory.intrinsic+json": {
       "summary": "{\n  \"name\": \"phishing\",\n  \"rows\": 10000,\n  \"fields\": [\n    {\n      \"column\": \"Domain\",\n      \"properties\": {\n        \"dtype\": \"string\",\n        \"num_unique_values\": 5225,\n        \"samples\": [\n          \"pub-b735058be6cd49009cef5bdec136d1d8.r2.dev\",\n          \"mlv0arwm.forms.app\",\n          \"allegrolokalnie.pl-ogloszenie-59332.rest\"\n        ],\n        \"semantic_type\": \"\",\n        \"description\": \"\"\n      }\n    },\n    {\n      \"column\": \"Have_IP\",\n      \"properties\": {\n        \"dtype\": \"number\",\n        \"std\": 0,\n        \"min\": 0,\n        \"max\": 0,\n        \"num_unique_values\": 1,\n        \"samples\": [\n          0\n        ],\n        \"semantic_type\": \"\",\n        \"description\": \"\"\n      }\n    },\n    {\n      \"column\": \"Have_At\",\n      \"properties\": {\n        \"dtype\": \"number\",\n        \"std\": 0,\n        \"min\": 0,\n        \"max\": 1,\n        \"num_unique_values\": 2,\n        \"samples\": [\n          1\n        ],\n        \"semantic_type\": \"\",\n        \"description\": \"\"\n      }\n    },\n    {\n      \"column\": \"URL_Length\",\n      \"properties\": {\n        \"dtype\": \"number\",\n        \"std\": 0,\n        \"min\": 0,\n        \"max\": 1,\n        \"num_unique_values\": 2,\n        \"samples\": [\n          0\n        ],\n        \"semantic_type\": \"\",\n        \"description\": \"\"\n      }\n    },\n    {\n      \"column\": \"URL_Depth\",\n      \"properties\": {\n        \"dtype\": \"number\",\n        \"std\": 1,\n        \"min\": 0,\n        \"max\": 16,\n        \"num_unique_values\": 14,\n        \"samples\": [\n          16\n        ],\n        \"semantic_type\": \"\",\n        \"description\": \"\"\n      }\n    },\n    {\n      \"column\": \"Redirection\",\n      \"properties\": {\n        \"dtype\": \"number\",\n        \"std\": 0,\n        \"min\": 0,\n        \"max\": 1,\n        \"num_unique_values\": 2,\n        \"samples\": [\n          1\n        ],\n        \"semantic_type\": \"\",\n        \"description\": \"\"\n      }\n    },\n    {\n      \"column\": \"Https_Domain\",\n      \"properties\": {\n        \"dtype\": \"number\",\n        \"std\": 0,\n        \"min\": 0,\n        \"max\": 1,\n        \"num_unique_values\": 2,\n        \"samples\": [\n          1\n        ],\n        \"semantic_type\": \"\",\n        \"description\": \"\"\n      }\n    },\n    {\n      \"column\": \"TinyURL\",\n      \"properties\": {\n        \"dtype\": \"number\",\n        \"std\": 0,\n        \"min\": 0,\n        \"max\": 1,\n        \"num_unique_values\": 2,\n        \"samples\": [\n          1\n        ],\n        \"semantic_type\": \"\",\n        \"description\": \"\"\n      }\n    },\n    {\n      \"column\": \"Prefix/Suffix\",\n      \"properties\": {\n        \"dtype\": \"number\",\n        \"std\": 0,\n        \"min\": 0,\n        \"max\": 1,\n        \"num_unique_values\": 2,\n        \"samples\": [\n          1\n        ],\n        \"semantic_type\": \"\",\n        \"description\": \"\"\n      }\n    },\n    {\n      \"column\": \"Label\",\n      \"properties\": {\n        \"dtype\": \"number\",\n        \"std\": 0,\n        \"min\": 1,\n        \"max\": 1,\n        \"num_unique_values\": 1,\n        \"samples\": [\n          1\n        ],\n        \"semantic_type\": \"\",\n        \"description\": \"\"\n      }\n    }\n  ]\n}",
       "type": "dataframe",
       "variable_name": "phishing"
      },
      "text/html": [
       "\n",
       "  <div id=\"df-d3b77ea2-f8ac-45f1-ba0c-538b43856154\" class=\"colab-df-container\">\n",
       "    <div>\n",
       "<style scoped>\n",
       "    .dataframe tbody tr th:only-of-type {\n",
       "        vertical-align: middle;\n",
       "    }\n",
       "\n",
       "    .dataframe tbody tr th {\n",
       "        vertical-align: top;\n",
       "    }\n",
       "\n",
       "    .dataframe thead th {\n",
       "        text-align: right;\n",
       "    }\n",
       "</style>\n",
       "<table border=\"1\" class=\"dataframe\">\n",
       "  <thead>\n",
       "    <tr style=\"text-align: right;\">\n",
       "      <th></th>\n",
       "      <th>Domain</th>\n",
       "      <th>Have_IP</th>\n",
       "      <th>Have_At</th>\n",
       "      <th>URL_Length</th>\n",
       "      <th>URL_Depth</th>\n",
       "      <th>Redirection</th>\n",
       "      <th>Https_Domain</th>\n",
       "      <th>TinyURL</th>\n",
       "      <th>Prefix/Suffix</th>\n",
       "      <th>Label</th>\n",
       "    </tr>\n",
       "  </thead>\n",
       "  <tbody>\n",
       "    <tr>\n",
       "      <th>0</th>\n",
       "      <td>sites.google.com</td>\n",
       "      <td>0</td>\n",
       "      <td>0</td>\n",
       "      <td>1</td>\n",
       "      <td>3</td>\n",
       "      <td>0</td>\n",
       "      <td>0</td>\n",
       "      <td>0</td>\n",
       "      <td>0</td>\n",
       "      <td>1</td>\n",
       "    </tr>\n",
       "    <tr>\n",
       "      <th>1</th>\n",
       "      <td>pub-6b5396a7447e450890996021695aad4d.r2.dev</td>\n",
       "      <td>0</td>\n",
       "      <td>0</td>\n",
       "      <td>1</td>\n",
       "      <td>1</td>\n",
       "      <td>0</td>\n",
       "      <td>0</td>\n",
       "      <td>0</td>\n",
       "      <td>1</td>\n",
       "      <td>1</td>\n",
       "    </tr>\n",
       "    <tr>\n",
       "      <th>2</th>\n",
       "      <td>firebasestorage.googleapis.com</td>\n",
       "      <td>0</td>\n",
       "      <td>0</td>\n",
       "      <td>1</td>\n",
       "      <td>5</td>\n",
       "      <td>0</td>\n",
       "      <td>0</td>\n",
       "      <td>1</td>\n",
       "      <td>0</td>\n",
       "      <td>1</td>\n",
       "    </tr>\n",
       "    <tr>\n",
       "      <th>3</th>\n",
       "      <td>open-webmail-help-desk1.weebly.com</td>\n",
       "      <td>0</td>\n",
       "      <td>0</td>\n",
       "      <td>0</td>\n",
       "      <td>0</td>\n",
       "      <td>0</td>\n",
       "      <td>0</td>\n",
       "      <td>0</td>\n",
       "      <td>1</td>\n",
       "      <td>1</td>\n",
       "    </tr>\n",
       "    <tr>\n",
       "      <th>4</th>\n",
       "      <td>paybyplatema.site</td>\n",
       "      <td>0</td>\n",
       "      <td>0</td>\n",
       "      <td>0</td>\n",
       "      <td>0</td>\n",
       "      <td>0</td>\n",
       "      <td>0</td>\n",
       "      <td>0</td>\n",
       "      <td>0</td>\n",
       "      <td>1</td>\n",
       "    </tr>\n",
       "  </tbody>\n",
       "</table>\n",
       "</div>\n",
       "    <div class=\"colab-df-buttons\">\n",
       "\n",
       "  <div class=\"colab-df-container\">\n",
       "    <button class=\"colab-df-convert\" onclick=\"convertToInteractive('df-d3b77ea2-f8ac-45f1-ba0c-538b43856154')\"\n",
       "            title=\"Convert this dataframe to an interactive table.\"\n",
       "            style=\"display:none;\">\n",
       "\n",
       "  <svg xmlns=\"http://www.w3.org/2000/svg\" height=\"24px\" viewBox=\"0 -960 960 960\">\n",
       "    <path d=\"M120-120v-720h720v720H120Zm60-500h600v-160H180v160Zm220 220h160v-160H400v160Zm0 220h160v-160H400v160ZM180-400h160v-160H180v160Zm440 0h160v-160H620v160ZM180-180h160v-160H180v160Zm440 0h160v-160H620v160Z\"/>\n",
       "  </svg>\n",
       "    </button>\n",
       "\n",
       "  <style>\n",
       "    .colab-df-container {\n",
       "      display:flex;\n",
       "      gap: 12px;\n",
       "    }\n",
       "\n",
       "    .colab-df-convert {\n",
       "      background-color: #E8F0FE;\n",
       "      border: none;\n",
       "      border-radius: 50%;\n",
       "      cursor: pointer;\n",
       "      display: none;\n",
       "      fill: #1967D2;\n",
       "      height: 32px;\n",
       "      padding: 0 0 0 0;\n",
       "      width: 32px;\n",
       "    }\n",
       "\n",
       "    .colab-df-convert:hover {\n",
       "      background-color: #E2EBFA;\n",
       "      box-shadow: 0px 1px 2px rgba(60, 64, 67, 0.3), 0px 1px 3px 1px rgba(60, 64, 67, 0.15);\n",
       "      fill: #174EA6;\n",
       "    }\n",
       "\n",
       "    .colab-df-buttons div {\n",
       "      margin-bottom: 4px;\n",
       "    }\n",
       "\n",
       "    [theme=dark] .colab-df-convert {\n",
       "      background-color: #3B4455;\n",
       "      fill: #D2E3FC;\n",
       "    }\n",
       "\n",
       "    [theme=dark] .colab-df-convert:hover {\n",
       "      background-color: #434B5C;\n",
       "      box-shadow: 0px 1px 3px 1px rgba(0, 0, 0, 0.15);\n",
       "      filter: drop-shadow(0px 1px 2px rgba(0, 0, 0, 0.3));\n",
       "      fill: #FFFFFF;\n",
       "    }\n",
       "  </style>\n",
       "\n",
       "    <script>\n",
       "      const buttonEl =\n",
       "        document.querySelector('#df-d3b77ea2-f8ac-45f1-ba0c-538b43856154 button.colab-df-convert');\n",
       "      buttonEl.style.display =\n",
       "        google.colab.kernel.accessAllowed ? 'block' : 'none';\n",
       "\n",
       "      async function convertToInteractive(key) {\n",
       "        const element = document.querySelector('#df-d3b77ea2-f8ac-45f1-ba0c-538b43856154');\n",
       "        const dataTable =\n",
       "          await google.colab.kernel.invokeFunction('convertToInteractive',\n",
       "                                                    [key], {});\n",
       "        if (!dataTable) return;\n",
       "\n",
       "        const docLinkHtml = 'Like what you see? Visit the ' +\n",
       "          '<a target=\"_blank\" href=https://colab.research.google.com/notebooks/data_table.ipynb>data table notebook</a>'\n",
       "          + ' to learn more about interactive tables.';\n",
       "        element.innerHTML = '';\n",
       "        dataTable['output_type'] = 'display_data';\n",
       "        await google.colab.output.renderOutput(dataTable, element);\n",
       "        const docLink = document.createElement('div');\n",
       "        docLink.innerHTML = docLinkHtml;\n",
       "        element.appendChild(docLink);\n",
       "      }\n",
       "    </script>\n",
       "  </div>\n",
       "\n",
       "\n",
       "    <div id=\"df-68b585f8-2910-46e6-b6aa-3651c630f778\">\n",
       "      <button class=\"colab-df-quickchart\" onclick=\"quickchart('df-68b585f8-2910-46e6-b6aa-3651c630f778')\"\n",
       "                title=\"Suggest charts\"\n",
       "                style=\"display:none;\">\n",
       "\n",
       "<svg xmlns=\"http://www.w3.org/2000/svg\" height=\"24px\"viewBox=\"0 0 24 24\"\n",
       "     width=\"24px\">\n",
       "    <g>\n",
       "        <path d=\"M19 3H5c-1.1 0-2 .9-2 2v14c0 1.1.9 2 2 2h14c1.1 0 2-.9 2-2V5c0-1.1-.9-2-2-2zM9 17H7v-7h2v7zm4 0h-2V7h2v10zm4 0h-2v-4h2v4z\"/>\n",
       "    </g>\n",
       "</svg>\n",
       "      </button>\n",
       "\n",
       "<style>\n",
       "  .colab-df-quickchart {\n",
       "      --bg-color: #E8F0FE;\n",
       "      --fill-color: #1967D2;\n",
       "      --hover-bg-color: #E2EBFA;\n",
       "      --hover-fill-color: #174EA6;\n",
       "      --disabled-fill-color: #AAA;\n",
       "      --disabled-bg-color: #DDD;\n",
       "  }\n",
       "\n",
       "  [theme=dark] .colab-df-quickchart {\n",
       "      --bg-color: #3B4455;\n",
       "      --fill-color: #D2E3FC;\n",
       "      --hover-bg-color: #434B5C;\n",
       "      --hover-fill-color: #FFFFFF;\n",
       "      --disabled-bg-color: #3B4455;\n",
       "      --disabled-fill-color: #666;\n",
       "  }\n",
       "\n",
       "  .colab-df-quickchart {\n",
       "    background-color: var(--bg-color);\n",
       "    border: none;\n",
       "    border-radius: 50%;\n",
       "    cursor: pointer;\n",
       "    display: none;\n",
       "    fill: var(--fill-color);\n",
       "    height: 32px;\n",
       "    padding: 0;\n",
       "    width: 32px;\n",
       "  }\n",
       "\n",
       "  .colab-df-quickchart:hover {\n",
       "    background-color: var(--hover-bg-color);\n",
       "    box-shadow: 0 1px 2px rgba(60, 64, 67, 0.3), 0 1px 3px 1px rgba(60, 64, 67, 0.15);\n",
       "    fill: var(--button-hover-fill-color);\n",
       "  }\n",
       "\n",
       "  .colab-df-quickchart-complete:disabled,\n",
       "  .colab-df-quickchart-complete:disabled:hover {\n",
       "    background-color: var(--disabled-bg-color);\n",
       "    fill: var(--disabled-fill-color);\n",
       "    box-shadow: none;\n",
       "  }\n",
       "\n",
       "  .colab-df-spinner {\n",
       "    border: 2px solid var(--fill-color);\n",
       "    border-color: transparent;\n",
       "    border-bottom-color: var(--fill-color);\n",
       "    animation:\n",
       "      spin 1s steps(1) infinite;\n",
       "  }\n",
       "\n",
       "  @keyframes spin {\n",
       "    0% {\n",
       "      border-color: transparent;\n",
       "      border-bottom-color: var(--fill-color);\n",
       "      border-left-color: var(--fill-color);\n",
       "    }\n",
       "    20% {\n",
       "      border-color: transparent;\n",
       "      border-left-color: var(--fill-color);\n",
       "      border-top-color: var(--fill-color);\n",
       "    }\n",
       "    30% {\n",
       "      border-color: transparent;\n",
       "      border-left-color: var(--fill-color);\n",
       "      border-top-color: var(--fill-color);\n",
       "      border-right-color: var(--fill-color);\n",
       "    }\n",
       "    40% {\n",
       "      border-color: transparent;\n",
       "      border-right-color: var(--fill-color);\n",
       "      border-top-color: var(--fill-color);\n",
       "    }\n",
       "    60% {\n",
       "      border-color: transparent;\n",
       "      border-right-color: var(--fill-color);\n",
       "    }\n",
       "    80% {\n",
       "      border-color: transparent;\n",
       "      border-right-color: var(--fill-color);\n",
       "      border-bottom-color: var(--fill-color);\n",
       "    }\n",
       "    90% {\n",
       "      border-color: transparent;\n",
       "      border-bottom-color: var(--fill-color);\n",
       "    }\n",
       "  }\n",
       "</style>\n",
       "\n",
       "      <script>\n",
       "        async function quickchart(key) {\n",
       "          const quickchartButtonEl =\n",
       "            document.querySelector('#' + key + ' button');\n",
       "          quickchartButtonEl.disabled = true;  // To prevent multiple clicks.\n",
       "          quickchartButtonEl.classList.add('colab-df-spinner');\n",
       "          try {\n",
       "            const charts = await google.colab.kernel.invokeFunction(\n",
       "                'suggestCharts', [key], {});\n",
       "          } catch (error) {\n",
       "            console.error('Error during call to suggestCharts:', error);\n",
       "          }\n",
       "          quickchartButtonEl.classList.remove('colab-df-spinner');\n",
       "          quickchartButtonEl.classList.add('colab-df-quickchart-complete');\n",
       "        }\n",
       "        (() => {\n",
       "          let quickchartButtonEl =\n",
       "            document.querySelector('#df-68b585f8-2910-46e6-b6aa-3651c630f778 button');\n",
       "          quickchartButtonEl.style.display =\n",
       "            google.colab.kernel.accessAllowed ? 'block' : 'none';\n",
       "        })();\n",
       "      </script>\n",
       "    </div>\n",
       "\n",
       "    </div>\n",
       "  </div>\n"
      ],
      "text/plain": [
       "                                        Domain  Have_IP  Have_At  URL_Length  \\\n",
       "0                             sites.google.com        0        0           1   \n",
       "1  pub-6b5396a7447e450890996021695aad4d.r2.dev        0        0           1   \n",
       "2               firebasestorage.googleapis.com        0        0           1   \n",
       "3           open-webmail-help-desk1.weebly.com        0        0           0   \n",
       "4                            paybyplatema.site        0        0           0   \n",
       "\n",
       "   URL_Depth  Redirection  Https_Domain  TinyURL  Prefix/Suffix  Label  \n",
       "0          3            0             0        0              0      1  \n",
       "1          1            0             0        0              1      1  \n",
       "2          5            0             0        1              0      1  \n",
       "3          0            0             0        0              1      1  \n",
       "4          0            0             0        0              0      1  "
      ]
     },
     "execution_count": 82,
     "metadata": {},
     "output_type": "execute_result"
    }
   ],
   "source": [
    "#converting the list to dataframe\n",
    "feature_names = ['UsingIp', 'LongUrl', 'ShortUrl', 'Symbol', 'Redirecting', 'PrefixSuffix',\n",
    "                 'SubDomains', 'Https', 'Favicon', 'NonStdPort', 'HTTPSDomainURL', 'RequestURL', \n",
    "                 'AnchorURL', 'LinksInScriptTags', 'ServerFormHandler', 'InfoEmail', \n",
    "                 'WebsiteForwarding', 'StatusBarCust', 'DisableRightClick', 'UsingPopupWindow',\n",
    "                 'IframeRedirection', 'LinksPointingToPage', 'Label']\n",
    "\n",
    "data = pd.DataFrame(features, columns=feature_names)\n",
    "print(f\"DataFrame shape: {data.shape}\")\n",
    "print(f\"Label distribution:\")\n",
    "print(data['Label'].value_counts())\n",
    "data.head()"
   ]
  },
  {
   "cell_type": "code",
   "execution_count": null,
   "metadata": {
    "id": "UhBbG2O7E30d"
   },
   "outputs": [],
   "source": [
    "# Storing the extracted URLs features to csv file\n",
    "data.to_csv('extracted_features_10k_samples.csv', index=False)\n",
    "print(\"Đã lưu file extracted_features_10k_samples.csv thành công!\")\n",
    "print(f\"File chứa {len(data)} mẫu với {len(data.columns)} đặc trưng.\")"
   ]
  },
  {
   "cell_type": "markdown",
   "metadata": {},
   "source": []
  }
 ],
 "metadata": {
  "colab": {
   "provenance": []
  },
  "kernelspec": {
   "display_name": "Python 3 (ipykernel)",
   "name": "python3",
   "language": "python"
  }
 },
 "nbformat": 4,
 "nbformat_minor": 0
}
